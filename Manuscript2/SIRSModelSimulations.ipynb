{
 "cells": [
  {
   "cell_type": "markdown",
   "metadata": {},
   "source": [
    "For now we are grouping graphs according to power. It may also make sense to group graphs according to their clustering."
   ]
  },
  {
   "cell_type": "markdown",
   "metadata": {},
   "source": [
    "Parameters to adjust:\n",
    "- log-increase (alpha such that at 365 more than 0.99 infectiousness) versus lin-increase (cutoff=365)\n",
    "- immunity length (90 days)\n",
    "- the power law distribution (group graphs accordingly)\n",
    "- the clustering (group graphs accordingly)\n",
    "\n",
    "Measuring the sensitivity of the parameters:\n",
    "- proportion of infecteds at time = 730\n",
    "- maximum number of infections over 730 days\n",
    "- number of times that more than 1% of the population is infected"
   ]
  },
  {
   "cell_type": "code",
   "execution_count": 1,
   "metadata": {
    "collapsed": false,
    "jupyter": {
     "outputs_hidden": false
    }
   },
   "outputs": [],
   "source": [
    "# Load the required packages\n",
    "import glob\n",
    "from igraph import *\n",
    "import pickle\n",
    "import random as rd\n",
    "import numpy as np\n",
    "from scipy.stats import lognorm\n",
    "import matplotlib.pyplot as plt\n",
    "import math\n",
    "from matplotlib.lines import Line2D\n",
    "import pandas as pd\n",
    "import seaborn as sns"
   ]
  },
  {
   "cell_type": "code",
   "execution_count": 2,
   "metadata": {},
   "outputs": [],
   "source": [
    "# # Recalculate the mean_edge probability after excluding all graphs with more than 2x10^6 edges \n",
    "# average_degrees = []\n",
    "# for pw in (2.4,2.6,2.8,3.0,3.2):\n",
    "#     for tr in (0.05,0.1,0.15,0.2):\n",
    "#         file_names = glob.glob('../Graphs/Graphs_{}_{}/*.pkl'.format(pw,tr))\n",
    "#         for g_name in file_names:\n",
    "#             g = pickle.load(open(g_name,\"rb\"))\n",
    "#             if g.ecount() <= 2*(10**6):\n",
    "#                 average_degrees.append(np.mean(g.degree()))\n",
    "# print(np.mean(average_degrees))"
   ]
  },
  {
   "cell_type": "code",
   "execution_count": 3,
   "metadata": {},
   "outputs": [],
   "source": [
    "# Setting the probability of infection such that each node infects on average one other node (r=1)\n",
    "mean_edge = 217.8505397260274 #480.55348360000005\n",
    "probs_inf = {1: 0.001, 2: 0.01, 3: 0.02, 4: 0.018, 5: 0.012,\n",
    "             6: 0.008, 7: 0.005, 8: 0.002, 9: 0.0015, 10: 0.001,\n",
    "             11: 0.001, 12: 0.001, 13: 0.001, 14: 0.001}\n",
    "# As per the prob. density function calculated by: https://pubmed.ncbi.nlm.nih.gov/32145466/ (Fig. 1)\n",
    "total_prob = np.sum(list(probs_inf.values()))\n",
    "adjust_prob = total_prob*mean_edge"
   ]
  },
  {
   "cell_type": "code",
   "execution_count": 4,
   "metadata": {},
   "outputs": [],
   "source": [
    "# Transmission rate is dependent on the time of last infection\n",
    "def log_increase(day,alpha=1/10):\n",
    "    val = alpha*math.log(1.0+day)/(1.0+(alpha*math.log(1.0+day)))\n",
    "    return(val)\n",
    "def lin_increase(day,cutoff=365):\n",
    "    if day <= cutoff:\n",
    "        val = day/cutoff\n",
    "    else:\n",
    "        val = 1\n",
    "    return(val)"
   ]
  },
  {
   "cell_type": "code",
   "execution_count": 5,
   "metadata": {
    "collapsed": false,
    "jupyter": {
     "outputs_hidden": false
    }
   },
   "outputs": [],
   "source": [
    "# SIRS Model Simulation\n",
    "def run_SIRS(g,days=730,infection_len=14,immunity_len=90,alpha=1,cutoff=365,logincrease=False):\n",
    "    # days = No of days for which to run the model, 1095 days in 3 years\n",
    "    # infection_len = No of days that an infected individual can transmit the virus\n",
    "    # immunity_len = No of days that an individual stays immune after infection\n",
    "    pop = len(g.vs()) # population size\n",
    "    # Set the default state as susceptible\n",
    "    for node in range(len(g.vs)):\n",
    "        g.vs[node][\"state\"] = \"S\" # Possible states are S & I & R\n",
    "        g.vs[node][\"duration\"] = 0 # No of consecutive days in state I\n",
    "        g.vs[node][\"last\"] = None # Time since last infection\n",
    "        g.vs[node][\"infections\"] = 0 # Number of infections\n",
    "    # Set a random node in the network as infected (patient zero)\n",
    "    i = rd.randint(0, pop-1)\n",
    "    g.vs[i][\"state\"] = \"I\"\n",
    "    g.vs[node][\"last\"] = None\n",
    "    # Keep track of the number of susceptible and the number of infecteds in the population\n",
    "    nb_S = [pop/pop]\n",
    "    nb_I = [1/pop]\n",
    "    nb_R = [0/pop]\n",
    "    # SIRS Simulation\n",
    "    for time in range(days):\n",
    "        # For all Recovered nodes update time of last infection and if no longer immune reset to Susceptible\n",
    "        for n in g.vs.select(state_eq = \"R\"):\n",
    "            g.vs[n.index][\"last\"] += 1\n",
    "            if g.vs[n.index][\"last\"] > immunity_len:\n",
    "                g.vs[n.index][\"state\"] = \"S\"\n",
    "                g.vs[n.index][\"last\"] = 0 # reset time of last recovery\n",
    "        # For all susceptible nodes update time of last infection\n",
    "        for n in g.vs.select(state_eq = \"S\"):\n",
    "            if g.vs[n.index][\"last\"] is not None:\n",
    "                g.vs[n.index][\"last\"] += 1\n",
    "        # For all infected nodes simulate transmission\n",
    "        for n in g.vs.select(state_eq = \"I\"):\n",
    "            g.vs[n.index][\"duration\"] += 1\n",
    "            day_inf = g.vs[n.index][\"duration\"]\n",
    "            if day_inf >= infection_len:\n",
    "                g.vs[n.index][\"state\"] = \"R\" # need to make this person immune for a given time period\n",
    "                g.vs[n.index][\"duration\"] = 0 # reset the infection duration to zero\n",
    "                g.vs[n.index][\"last\"] = 0 # reset time of last infection\n",
    "            else:\n",
    "                if g.vs[n.index][\"last\"] == None:\n",
    "                    damping_factor = 1\n",
    "                else:\n",
    "                    if logincrease:\n",
    "                        damping_factor = log_increase(g.vs[n.index][\"last\"],alpha=alpha) #log_increase(g.vs[n.index][\"last\"])\n",
    "                    else:\n",
    "                        damping_factor = lin_increase(g.vs[n.index][\"last\"],cutoff=cutoff) #log_increase(g.vs[n.index][\"last\"])\n",
    "                for nb in g.neighbors(n): # iterate through neighbours of infected node\n",
    "                        if g.vs[nb][\"state\"] == \"S\":\n",
    "                                r = rd.random()\n",
    "                                if r < probs_inf[day_inf]*damping_factor/adjust_prob: #do not get second peaks if the probability of infeaction is too high\n",
    "                                    # Infection Occurs\n",
    "                                    g.vs[nb][\"state\"] = \"I\"\n",
    "                                    g.vs[nb][\"duration\"] = 0 # reset the infection duration to zero\n",
    "                                    g.vs[nb][\"infections\"] += 1 # update the number of times that node got infected\n",
    "        nb_S.append(len(g.vs.select(state_eq = \"S\"))/pop) #no. of susceptibles in population\n",
    "        nb_I.append(len(g.vs.select(state_eq = \"I\"))/pop) #no. of infecteds in population\n",
    "        nb_R.append(len(g.vs.select(state_eq = \"R\"))/pop) #no. of immunes in population\n",
    "    max_inf = np.max(g.vs[\"infections\"])\n",
    "    return (nb_S, nb_I, nb_R, max_inf)"
   ]
  },
  {
   "cell_type": "code",
   "execution_count": 6,
   "metadata": {
    "collapsed": false,
    "jupyter": {
     "outputs_hidden": false
    }
   },
   "outputs": [],
   "source": [
    "# Parameters to adjust (do all possible combinations of *0.7 and *1.3)\n",
    "loginc = False\n",
    "imlen = 90*0.7 # immunity length\n",
    "adj = 1*1.3 # adjust the probability of infection\n",
    "alph = 16.8 # damping factor; applied when logincrease = True\n",
    "# Vary cut only if loginc is False\n",
    "cut = 365*1.3 # cutoff; applied when logincrease = False\n",
    "\n",
    "# Parameters of Interest\n",
    "adjust_prob = adjust_prob*adj\n",
    "prop_inf = [] # proportion of infected after 2 years \n",
    "max_infs = [] # maximum percentage of infecteds at a time\n",
    "no_peaks = [] # percentage of days that more than 1% of the pop'n is infected\n",
    "max_reinf = [] # maximum number of reinfections that a node had\n",
    "\n",
    "# Get file names of the generated networks\n",
    "pw = ['2.4', '2.6', '2.8', '3.0', '3.2'] # set of graphs with that power\n",
    "tr = ['0.05', '0.1', '0.15', '0.2'] # set of graphs with that transitivity\n",
    "output = pd.DataFrame(columns=['Nodes', 'Edges', 'Power', 'Transitivity', 'AdjPob', 'max_infs', 'prop_inf', 'max_reinf', 'no_peaks'])\n",
    "for _pw in pw:\n",
    "    for _tr in tr:\n",
    "        file_names = glob.glob('../Graphs/Graphs_{}_{}/*.pkl'.format(_pw, _tr))\n",
    "        # Interate through the networks and run SIRS model\n",
    "        for g_name in file_names:\n",
    "            g = pickle.load(open(g_name,\"rb\"))\n",
    "            if g.ecount() <= 2*(10**6):\n",
    "                pop = float(g.vcount()) # population size \n",
    "                al = 0.3 # line transparancy\n",
    "                time = 730\n",
    "                power = power_law_fit(g.degree()).alpha\n",
    "                trans = g.transitivity_undirected()\n",
    "                # Run multiple simulation for each network\n",
    "                for i in range(10):\n",
    "                    no_S,no_I,no_R,max_rI = run_SIRS(g,days=time,infection_len=14,immunity_len=imlen,alpha=alph,cutoff=cut,logincrease=loginc)\n",
    "                    # Save the parameters of interest\n",
    "                    output = output.append({'Nodes':g.vcount(), 'Edges':g.ecount(), 'Power':power, 'Transitivity':trans, 'AdjPob': adj, 'max_infs':max(no_I)*pop, 'prop_inf':no_I[-1]*pop, 'max_reinf':max_rI, 'no_peaks':np.sum([i>0.01 for i in no_I])}, ignore_index=True)"
   ]
  },
  {
   "cell_type": "code",
   "execution_count": 7,
   "metadata": {},
   "outputs": [],
   "source": [
    "if loginc:\n",
    "    output.to_csv(\"../Results/output_loginc_alph{}_imlen{}_adj{}.csv\".format(alph,imlen,adj))\n",
    "else:\n",
    "    output.to_csv(\"../Results/output_lininc_cut{}_imlen{}_adj{}.csv\".format(cut,imlen,adj))"
   ]
  },
  {
   "cell_type": "code",
   "execution_count": 8,
   "metadata": {},
   "outputs": [
    {
     "data": {
      "image/png": "[encoded data removed]",
      "text/plain": [
       "<Figure size 432x288 with 1 Axes>"
      ]
     },
     "metadata": {
      "needs_background": "light"
     },
     "output_type": "display_data"
    }
   ],
   "source": [
    "fig, ax = plt.subplots()\n",
    "ax.scatter(output['Edges'], output['Transitivity'])\n",
    "fig.tight_layout()\n",
    "plt.show()"
   ]
  },
  {
   "cell_type": "code",
   "execution_count": null,
   "metadata": {},
   "outputs": [],
   "source": []
  }
 ],
 "metadata": {
  "kernelspec": {
   "display_name": "Python 3.8 (with cplex)",
   "language": "python",
   "name": "python3.8"
  },
  "language_info": {
   "codemirror_mode": {
    "name": "ipython",
    "version": 3
   },
   "file_extension": ".py",
   "mimetype": "text/x-python",
   "name": "python",
   "nbconvert_exporter": "python",
   "pygments_lexer": "ipython3",
   "version": "3.7.9"
  }
 },
 "nbformat": 4,
 "nbformat_minor": 4
}
