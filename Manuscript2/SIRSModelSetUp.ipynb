{
 "cells": [
  {
   "cell_type": "code",
   "execution_count": 1,
   "metadata": {
    "collapsed": false
   },
   "outputs": [
   ],
   "source": [
    "# Load Packages\n",
    "from igraph import *\n",
    "import pickle\n",
    "import matplotlib.pyplot as plt\n",
    "import random\n",
    "import glob\n",
    "import numpy as np"
   ]
  },
  {
   "cell_type": "code",
   "execution_count": 0,
   "metadata": {
    "collapsed": false
   },
   "outputs": [
   ],
   "source": [
    "# Generate the networks with varying degrees of clusterings/ transitivity\n",
    "for i in (40,60,80,100,120,140):\n",
    "    print(i)\n",
    "    # Generate networks with a power between [2.2-2.4], ...\n",
    "    counter = 0\n",
    "    r2 = 200 + i\n",
    "    r1 = r2 - 40\n",
    "    while counter < 100:\n",
    "        # Generate many networks with a power between 2.0-3.2 and a number of edges between 10 000 and 2 000 000\n",
    "        no_nodes = 10000\n",
    "        no_edges = random.sample(range(10000,2000000),1)[0]\n",
    "        power = random.sample(range(r1,r2),1)[0]/100.\n",
    "        try:\n",
    "            G = Graph.Static_Power_Law(n=no_nodes,m=no_edges,exponent=power)\n",
    "            fit = power_law_fit(G.degree())\n",
    "            if fit.alpha >= (r1+20)/100 and fit.alpha <= (r2)/100:\n",
    "                transitivity = G.transitivity_undirected()\n",
    "                if transitivity < 0.2:\n",
    "                    # make sure that the assigned power was achieved b/c this may not always be the case\n",
    "                    # make sure that for all sets the transitivity is always the same [0,0.2]\n",
    "                    file_name = \"./Graphs/Graph_{}_{}.pkl\".format(r2/100,counter)\n",
    "                    pickle.dump(G,open(file_name, 'wb'))\n",
    "                    counter += 1\n",
    "        except InternalError:\n",
    "            print(\"Invalid no. of edges\")"
   ]
  },
  {
   "cell_type": "code",
   "execution_count": 0,
   "metadata": {
    "collapsed": false
   },
   "outputs": [
   ],
   "source": [
    "# Get clustering, transitivity and power from all generated networks\n",
    "clusterings = []\n",
    "transitivities = []\n",
    "powers = []\n",
    "file_names = glob.glob('./Graphs/*.pkl')\n",
    "for file_name in file_names:\n",
    "    G = pickle.load(open(file_name,\"rb\"))\n",
    "    transitivity = G.transitivity_undirected() #ratio of the triangles and connected triplets in the graph\n",
    "    average_clustering = G.transitivity_avglocal_undirected() #average clutering coefficient of all nodes in the network\n",
    "    fit = power_law_fit(G.degree())\n",
    "    powers.append(fit.alpha)\n",
    "    transitivities.append(transitivity)\n",
    "    clusterings.append(average_clustering)\n",
    "\n",
    "# Scatter plot of clustering versus power\n",
    "x = powers\n",
    "y = transitivities\n",
    "fs = 18\n",
    "area = [c*300 for c in clusterings]\n",
    "plt.scatter(x, y, s=area)\n",
    "plt.ylabel(\"Transitivity\", fontsize=fs)\n",
    "plt.xlabel(\"Power\", fontsize=fs)\n",
    "plt.xticks(fontsize=fs)\n",
    "plt.yticks(fontsize=fs)\n",
    "plt.savefig('Fig_Transitivity_clustering_power_n{}.pdf'.format(len(file_names)))\n",
    "plt.show()"
   ]
  },
  {
   "cell_type": "code",
   "execution_count": 0,
   "metadata": {
    "collapsed": false
   },
   "outputs": [
   ],
   "source": [
    "import numpy as np\n",
    "powers = np.array(powers)\n",
    "transitivities = np.array(transitivities)"
   ]
  },
  {
   "cell_type": "code",
   "execution_count": 0,
   "metadata": {
    "collapsed": false
   },
   "outputs": [
   ],
   "source": [
    "# Check that all power ranges have a similiar distribution of transitivities\n",
    "for i in (40,60,80,100,120):\n",
    "    #Power between [2.2-2.4], ... [3.6,3.8]\n",
    "    r2 = (200 + i)/100.\n",
    "    r1 = r2 - 0.2\n",
    "    indcs = np.where(np.logical_and(powers> r1, powers< r2))\n",
    "    m = round(np.mean(transitivities[indcs]),3)\n",
    "    s = round(np.std(transitivities[indcs]),3)\n",
    "    print(\"[{},{}]: no: {}, mean = {}, sd = {}\".format(round(r1,2),r2,len(indcs[0]),m,s))"
   ]
  },
  {
   "cell_type": "code",
   "execution_count": 2,
   "metadata": {
    "collapsed": false
   },
   "outputs": [
   ],
   "source": [
    "# Get average degree for a network of a certain power range (degree exponent)\n",
    "pw = \"3.2\"\n",
    "average_degrees = []\n",
    "file_names = glob.glob('./Graphs/*.pkl')\n",
    "for g_name in file_names:\n",
    "    if pw in g_name:\n",
    "        g = pickle.load(open(g_name,\"rb\"))\n",
    "        average_degrees.append(np.mean(g.degree()))\n",
    "print(np.mean(average_degrees))"
   ]
  }
 ],
 "metadata": {
  "kernelspec": {
   "display_name": "Python 3 (system-wide)",
   "language": "python",
   "metadata": {
    "cocalc": {
     "description": "Python 3 programming language",
     "priority": 100,
     "url": "https://www.python.org/"
    }
   },
   "name": "python3",
   "resource_dir": "/ext/jupyter/kernels/python3"
  },
  "language_info": {
   "codemirror_mode": {
    "name": "ipython",
    "version": 3
   },
   "file_extension": ".py",
   "mimetype": "text/x-python",
   "name": "python",
   "nbconvert_exporter": "python",
   "pygments_lexer": "ipython3",
   "version": "3.8.2"
  }
 },
 "nbformat": 4,
 "nbformat_minor": 4
}